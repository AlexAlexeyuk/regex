{
  "nbformat": 4,
  "nbformat_minor": 0,
  "metadata": {
    "colab": {
      "name": "regex_07.ipynb",
      "provenance": [],
      "authorship_tag": "ABX9TyNwKv4Iu2u5BnP/eS6tjrtz",
      "include_colab_link": true
    },
    "kernelspec": {
      "name": "python3",
      "display_name": "Python 3"
    }
  },
  "cells": [
    {
      "cell_type": "markdown",
      "metadata": {
        "id": "view-in-github",
        "colab_type": "text"
      },
      "source": [
        "<a href=\"https://colab.research.google.com/github/pythonic-accountant/regex/blob/main/regex_07.ipynb\" target=\"_parent\"><img src=\"https://colab.research.google.com/assets/colab-badge.svg\" alt=\"Open In Colab\"/></a>"
      ]
    },
    {
      "cell_type": "markdown",
      "metadata": {
        "id": "Y3z7DxbIMyPE"
      },
      "source": [
        "Regex Lesson 7 - using variables in patterns"
      ]
    },
    {
      "cell_type": "code",
      "metadata": {
        "id": "9HZ5KBeHMuW8"
      },
      "source": [
        "import re"
      ],
      "execution_count": 1,
      "outputs": []
    },
    {
      "cell_type": "code",
      "metadata": {
        "id": "QCpWFDqeM-fO"
      },
      "source": [
        "ee_id = re.compile(r'\\d{8}')"
      ],
      "execution_count": 2,
      "outputs": []
    },
    {
      "cell_type": "code",
      "metadata": {
        "id": "8ONuzumANIEG"
      },
      "source": [
        "last_first = re.compile(r'\\w+,\\s\\w+')"
      ],
      "execution_count": 3,
      "outputs": []
    },
    {
      "cell_type": "code",
      "metadata": {
        "id": "TL6GF0nyNPz8"
      },
      "source": [
        "dollar = re.compile(r'\\$[\\d,]+\\.\\d{2}')"
      ],
      "execution_count": 9,
      "outputs": []
    },
    {
      "cell_type": "code",
      "metadata": {
        "id": "YyQCLXd-NdFz"
      },
      "source": [
        "line = '12345678    smith, bobby     $1,534.25     $26.99'"
      ],
      "execution_count": 5,
      "outputs": []
    },
    {
      "cell_type": "code",
      "metadata": {
        "colab": {
          "base_uri": "https://localhost:8080/"
        },
        "id": "Le0P4uqnNih5",
        "outputId": "5a8ac883-edd8-4e33-dc7d-810818741488"
      },
      "source": [
        "ee_id.search(line)"
      ],
      "execution_count": 6,
      "outputs": [
        {
          "output_type": "execute_result",
          "data": {
            "text/plain": [
              "<_sre.SRE_Match object; span=(0, 8), match='12345678'>"
            ]
          },
          "metadata": {
            "tags": []
          },
          "execution_count": 6
        }
      ]
    },
    {
      "cell_type": "code",
      "metadata": {
        "colab": {
          "base_uri": "https://localhost:8080/"
        },
        "id": "ajNAqbhyNkl-",
        "outputId": "9bce7135-30ef-4948-b4f6-cf204b7e4e54"
      },
      "source": [
        "last_first.search(line)"
      ],
      "execution_count": 7,
      "outputs": [
        {
          "output_type": "execute_result",
          "data": {
            "text/plain": [
              "<_sre.SRE_Match object; span=(12, 24), match='smith, bobby'>"
            ]
          },
          "metadata": {
            "tags": []
          },
          "execution_count": 7
        }
      ]
    },
    {
      "cell_type": "code",
      "metadata": {
        "colab": {
          "base_uri": "https://localhost:8080/"
        },
        "id": "KY4jjbrTNmdU",
        "outputId": "5109dff4-26ce-442e-953f-707b2a75ab70"
      },
      "source": [
        "dollar.search(line)"
      ],
      "execution_count": 10,
      "outputs": [
        {
          "output_type": "execute_result",
          "data": {
            "text/plain": [
              "<_sre.SRE_Match object; span=(29, 38), match='$1,534.25'>"
            ]
          },
          "metadata": {
            "tags": []
          },
          "execution_count": 10
        }
      ]
    },
    {
      "cell_type": "code",
      "metadata": {
        "id": "gzf95qDTNos0"
      },
      "source": [
        "line_re = re.compile(rf'{ee_id.pattern}\\s+{last_first.pattern}\\s+{dollar.pattern}\\s+{dollar.pattern}')"
      ],
      "execution_count": 14,
      "outputs": []
    },
    {
      "cell_type": "code",
      "metadata": {
        "colab": {
          "base_uri": "https://localhost:8080/"
        },
        "id": "v1unuBFKOF2V",
        "outputId": "1ce97f5a-8c3d-4b8b-829e-9f2158baeffb"
      },
      "source": [
        "line_re.search(line)"
      ],
      "execution_count": 15,
      "outputs": [
        {
          "output_type": "execute_result",
          "data": {
            "text/plain": [
              "<_sre.SRE_Match object; span=(0, 49), match='12345678    smith, bobby     $1,534.25     $26.99>"
            ]
          },
          "metadata": {
            "tags": []
          },
          "execution_count": 15
        }
      ]
    },
    {
      "cell_type": "code",
      "metadata": {
        "id": "ULcQHZMfOJXc"
      },
      "source": [
        "line_re = re.compile(rf'({ee_id.pattern})\\s+({last_first.pattern})\\s+({dollar.pattern})\\s+({dollar.pattern})')"
      ],
      "execution_count": 16,
      "outputs": []
    },
    {
      "cell_type": "code",
      "metadata": {
        "id": "xp-XypPSOQTy"
      },
      "source": [
        "found = line_re.search(line)"
      ],
      "execution_count": 17,
      "outputs": []
    },
    {
      "cell_type": "code",
      "metadata": {
        "id": "YEWp31K0OTHc"
      },
      "source": [
        "ee_id, name, dollar1, dollar2 = found.groups()"
      ],
      "execution_count": 21,
      "outputs": []
    },
    {
      "cell_type": "code",
      "metadata": {
        "id": "ITuos6zWOUHO"
      },
      "source": [
        "import pandas as pd\n",
        "df = pd.DataFrame([[ee_id, name, dollar1, dollar2]], columns=['ee_id', 'name', 'dollar1', 'dollar2'])"
      ],
      "execution_count": 23,
      "outputs": []
    },
    {
      "cell_type": "code",
      "metadata": {
        "colab": {
          "base_uri": "https://localhost:8080/",
          "height": 80
        },
        "id": "HpC4c_wrOm-v",
        "outputId": "00dd3c96-a9e8-4ad3-d44f-50a06cd0d96e"
      },
      "source": [
        "df"
      ],
      "execution_count": 24,
      "outputs": [
        {
          "output_type": "execute_result",
          "data": {
            "text/html": [
              "<div>\n",
              "<style scoped>\n",
              "    .dataframe tbody tr th:only-of-type {\n",
              "        vertical-align: middle;\n",
              "    }\n",
              "\n",
              "    .dataframe tbody tr th {\n",
              "        vertical-align: top;\n",
              "    }\n",
              "\n",
              "    .dataframe thead th {\n",
              "        text-align: right;\n",
              "    }\n",
              "</style>\n",
              "<table border=\"1\" class=\"dataframe\">\n",
              "  <thead>\n",
              "    <tr style=\"text-align: right;\">\n",
              "      <th></th>\n",
              "      <th>ee_id</th>\n",
              "      <th>name</th>\n",
              "      <th>dollar1</th>\n",
              "      <th>dollar2</th>\n",
              "    </tr>\n",
              "  </thead>\n",
              "  <tbody>\n",
              "    <tr>\n",
              "      <th>0</th>\n",
              "      <td>12345678</td>\n",
              "      <td>smith, bobby</td>\n",
              "      <td>$1,534.25</td>\n",
              "      <td>$26.99</td>\n",
              "    </tr>\n",
              "  </tbody>\n",
              "</table>\n",
              "</div>"
            ],
            "text/plain": [
              "      ee_id          name    dollar1 dollar2\n",
              "0  12345678  smith, bobby  $1,534.25  $26.99"
            ]
          },
          "metadata": {
            "tags": []
          },
          "execution_count": 24
        }
      ]
    },
    {
      "cell_type": "code",
      "metadata": {
        "id": "-mQhaaBTOsbH"
      },
      "source": [
        ""
      ],
      "execution_count": null,
      "outputs": []
    }
  ]
}